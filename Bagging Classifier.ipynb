{
 "cells": [
  {
   "cell_type": "code",
   "execution_count": 1,
   "id": "50b457cd",
   "metadata": {},
   "outputs": [],
   "source": [
    "import pandas as pd \n",
    "import numpy as np \n",
    "import matplotlib.pyplot as plt \n",
    "import seaborn as sns\n",
    "from sklearn.model_selection import train_test_split\n",
    "from sklearn.datasets import make_classification\n",
    "from sklearn.ensemble import BaggingClassifier\n",
    "from sklearn.tree import DecisionTreeClassifier\n",
    "from sklearn.svm import SVC\n",
    "from sklearn.metrics import accuracy_score\n",
    "import warnings\n",
    "warnings.filterwarnings('ignore')"
   ]
  },
  {
   "cell_type": "code",
   "execution_count": 2,
   "id": "fbfc7ff5",
   "metadata": {},
   "outputs": [
    {
     "name": "stdout",
     "output_type": "stream",
     "text": [
      "Decision Tree 0.896\n"
     ]
    }
   ],
   "source": [
    "X,y=make_classification(n_samples=10000,n_features=10,n_informative=3)\n",
    "X_train,X_test,y_train,y_test=train_test_split(X,y,test_size=0.20,\n",
    "                                               random_state=42)\n",
    "dt=DecisionTreeClassifier(random_state=42)\n",
    "dt.fit(X_train,y_train)\n",
    "y_pred=dt.predict(X_test)\n",
    "print(\"Decision Tree\",accuracy_score(y_test,y_pred))"
   ]
  },
  {
   "cell_type": "code",
   "execution_count": 3,
   "id": "c6a04bff",
   "metadata": {},
   "outputs": [
    {
     "data": {
      "text/plain": [
       "(10000, 10)"
      ]
     },
     "execution_count": 3,
     "metadata": {},
     "output_type": "execute_result"
    }
   ],
   "source": [
    "X.shape"
   ]
  },
  {
   "cell_type": "markdown",
   "id": "d2a212b2",
   "metadata": {},
   "source": [
    "### 1.   Bagging using Decision Trees"
   ]
  },
  {
   "cell_type": "code",
   "execution_count": 4,
   "id": "90bede37",
   "metadata": {},
   "outputs": [],
   "source": [
    "# n_estimators = no of trees.\n",
    "# max_samples  = 25% data of X_train\n",
    "# boostrap = True , sampling with replacement\n",
    "\n",
    "bag=BaggingClassifier(\n",
    "            base_estimator=DecisionTreeClassifier(),\n",
    "            n_estimators=10,\n",
    "            max_samples=0.25,\n",
    "            bootstrap=True, # sampling with replacement \n",
    "            random_state=42)\n"
   ]
  },
  {
   "cell_type": "code",
   "execution_count": 5,
   "id": "935e9f42",
   "metadata": {},
   "outputs": [
    {
     "data": {
      "text/plain": [
       "BaggingClassifier(base_estimator=DecisionTreeClassifier(), max_samples=0.25,\n",
       "                  random_state=42)"
      ]
     },
     "execution_count": 5,
     "metadata": {},
     "output_type": "execute_result"
    }
   ],
   "source": [
    "bag.fit(X_train,y_train)"
   ]
  },
  {
   "cell_type": "code",
   "execution_count": 6,
   "id": "06702c83",
   "metadata": {},
   "outputs": [
    {
     "data": {
      "text/plain": [
       "(8000, 10)"
      ]
     },
     "execution_count": 6,
     "metadata": {},
     "output_type": "execute_result"
    }
   ],
   "source": [
    "X_train.shape"
   ]
  },
  {
   "cell_type": "code",
   "execution_count": 7,
   "id": "dde0145f",
   "metadata": {},
   "outputs": [
    {
     "name": "stdout",
     "output_type": "stream",
     "text": [
      "Accuracy score - 0.8925\n"
     ]
    }
   ],
   "source": [
    "y_predict=bag.predict(X_test)\n",
    "print(\"Accuracy score -\",accuracy_score(y_test,y_predict))"
   ]
  },
  {
   "cell_type": "code",
   "execution_count": 8,
   "id": "b1a92e11",
   "metadata": {},
   "outputs": [
    {
     "data": {
      "text/plain": [
       "[array([2523, 3113, 7114, ..., 4291, 4472, 3620]),\n",
       " array([4782,  663, 7155, ..., 5963,  495, 1767]),\n",
       " array([5462, 6574, 4896, ..., 3979, 7827,   37]),\n",
       " array([2848, 2629, 1591, ..., 7723, 1314, 1565]),\n",
       " array([3821, 6494, 1606, ..., 5686, 7870, 2558]),\n",
       " array([2261, 7922, 3649, ..., 4478, 6286, 6943]),\n",
       " array([ 652, 1676, 2291, ..., 2723, 7007, 6344]),\n",
       " array([2478, 4107, 1958, ..., 7979, 5695, 7854]),\n",
       " array([5800, 3548, 6540, ..., 3899,  831,   55]),\n",
       " array([5256, 7181, 3409, ..., 5286, 7535, 1335])]"
      ]
     },
     "execution_count": 8,
     "metadata": {},
     "output_type": "execute_result"
    }
   ],
   "source": [
    "\n",
    "# 10 trees are created with each tree having 200 samples\n",
    "\n",
    "# bag.estimators_samples_[0].shape\n",
    "\n",
    "bag.estimators_samples_"
   ]
  },
  {
   "cell_type": "code",
   "execution_count": 9,
   "id": "894f6621",
   "metadata": {},
   "outputs": [
    {
     "data": {
      "text/plain": [
       "(10,)"
      ]
     },
     "execution_count": 9,
     "metadata": {},
     "output_type": "execute_result"
    }
   ],
   "source": [
    "# It is taking all the features.\n",
    "bag.estimators_features_[0].shape"
   ]
  },
  {
   "cell_type": "markdown",
   "id": "8dcbbf6e",
   "metadata": {},
   "source": [
    "### 2.   Bagging using SVM"
   ]
  },
  {
   "cell_type": "code",
   "execution_count": 10,
   "id": "0ae4c590",
   "metadata": {},
   "outputs": [
    {
     "name": "stdout",
     "output_type": "stream",
     "text": [
      "Accuracy score - 0.882\n"
     ]
    }
   ],
   "source": [
    "bag=BaggingClassifier(\n",
    "            base_estimator=SVC(),\n",
    "            n_estimators=50,\n",
    "            max_samples=0.25,\n",
    "            bootstrap=True,  # sampling with replacement \n",
    "            random_state=42)\n",
    "\n",
    "bag.fit(X_train,y_train)\n",
    "y_predict=bag.predict(X_test)\n",
    "print(\"Accuracy score -\",accuracy_score(y_test,y_predict))"
   ]
  },
  {
   "cell_type": "markdown",
   "id": "2e75b3ad",
   "metadata": {},
   "source": [
    "### 3.  Pasting"
   ]
  },
  {
   "cell_type": "code",
   "execution_count": 11,
   "id": "048b36f8",
   "metadata": {},
   "outputs": [
    {
     "name": "stderr",
     "output_type": "stream",
     "text": [
      "[Parallel(n_jobs=8)]: Using backend LokyBackend with 8 concurrent workers.\n"
     ]
    },
    {
     "name": "stdout",
     "output_type": "stream",
     "text": [
      "Accuracy score - 0.9085\n"
     ]
    },
    {
     "name": "stderr",
     "output_type": "stream",
     "text": [
      "[Parallel(n_jobs=8)]: Done   2 out of   8 | elapsed:    1.3s remaining:    4.0s\n",
      "[Parallel(n_jobs=8)]: Done   8 out of   8 | elapsed:    1.3s finished\n",
      "[Parallel(n_jobs=8)]: Using backend LokyBackend with 8 concurrent workers.\n",
      "[Parallel(n_jobs=8)]: Done   2 out of   8 | elapsed:    0.0s remaining:    0.0s\n",
      "[Parallel(n_jobs=8)]: Done   8 out of   8 | elapsed:    0.0s finished\n"
     ]
    }
   ],
   "source": [
    "bag=BaggingClassifier(\n",
    "            base_estimator=DecisionTreeClassifier(),\n",
    "            n_estimators=50,\n",
    "            max_samples=0.25,\n",
    "            bootstrap=False,  # Sampling without replacement\n",
    "            random_state=42,\n",
    "            verbose=1,  # To provide info about the training\n",
    "            n_jobs=-1)  # Task is divided for fast processing\n",
    "            \n",
    "bag.fit(X_train,y_train)\n",
    "y_predict=bag.predict(X_test)\n",
    "print(\"Accuracy score -\",accuracy_score(y_test,y_predict))"
   ]
  },
  {
   "cell_type": "markdown",
   "id": "f5d3b386",
   "metadata": {},
   "source": [
    "### 4.   Random Subspaces"
   ]
  },
  {
   "cell_type": "code",
   "execution_count": 12,
   "id": "d21d55ac",
   "metadata": {},
   "outputs": [
    {
     "name": "stdout",
     "output_type": "stream",
     "text": [
      "Accuracy score - 0.908\n"
     ]
    }
   ],
   "source": [
    "\n",
    "# No row sampling only column sampling \n",
    "\n",
    "bag=BaggingClassifier(\n",
    "            base_estimator=DecisionTreeClassifier(),\n",
    "            n_estimators=500,\n",
    "            max_samples=1.0,\n",
    "            bootstrap=False,  # Sampling without replacement\n",
    "            random_state=42,\n",
    "            max_features=0.5, # Column sampling \n",
    "            n_jobs=-1)  # Task is divided for fast processing\n",
    "            \n",
    "bag.fit(X_train,y_train)\n",
    "y_predict=bag.predict(X_test)\n",
    "print(\"Accuracy score -\",accuracy_score(y_test,y_predict))"
   ]
  },
  {
   "cell_type": "code",
   "execution_count": 13,
   "id": "012b5653",
   "metadata": {},
   "outputs": [
    {
     "data": {
      "text/plain": [
       "(5,)"
      ]
     },
     "execution_count": 13,
     "metadata": {},
     "output_type": "execute_result"
    }
   ],
   "source": [
    "# No of features that is given for every tree.\n",
    "# Total - 10 , given - 0.5 = 5\n",
    "\n",
    "bag.estimators_features_[0].shape"
   ]
  },
  {
   "cell_type": "markdown",
   "id": "74eff23c",
   "metadata": {},
   "source": [
    "### 5.  Random Patches"
   ]
  },
  {
   "cell_type": "code",
   "execution_count": 14,
   "id": "aec18c6f",
   "metadata": {},
   "outputs": [
    {
     "name": "stdout",
     "output_type": "stream",
     "text": [
      "Accuracy score - 0.896\n"
     ]
    }
   ],
   "source": [
    "\n",
    "# row and column sampling \n",
    "\n",
    "bag=BaggingClassifier(\n",
    "            base_estimator=DecisionTreeClassifier(),\n",
    "            n_estimators=500,\n",
    "            max_samples=0.25,\n",
    "            bootstrap=True,  # Sampling with replacement\n",
    "            random_state=42,\n",
    "            max_features=0.5, # Column sampling \n",
    "            n_jobs=-1)  # Task is divided for fast processing\n",
    "            \n",
    "bag.fit(X_train,y_train)\n",
    "y_predict=bag.predict(X_test)\n",
    "print(\"Accuracy score -\",accuracy_score(y_test,y_predict))"
   ]
  },
  {
   "cell_type": "markdown",
   "id": "48b90600",
   "metadata": {},
   "source": [
    "### 6.  OOB - Out of Bag Sampling \n",
    "\n",
    "\n",
    "\n",
    "- While random sampling it happens that there are certain values which is not selected at least once and there are certain rows values which are selected mutliple times.\n",
    "\n",
    "\n",
    "- It is said that only 63% of data is used else is not used - 37% , thus it is called as OOB.\n",
    "\n"
   ]
  },
  {
   "cell_type": "code",
   "execution_count": 15,
   "id": "dc95cadc",
   "metadata": {},
   "outputs": [
    {
     "name": "stdout",
     "output_type": "stream",
     "text": [
      "Accuracy score - 0.9085\n"
     ]
    }
   ],
   "source": [
    "\n",
    "# if OOB_Score = True then it will use all the values.\n",
    "\n",
    "bag=BaggingClassifier(\n",
    "            base_estimator=DecisionTreeClassifier(),\n",
    "            n_estimators=500,\n",
    "            max_samples=0.25,\n",
    "            bootstrap=True,  # Sampling with replacement\n",
    "            random_state=42,\n",
    "            oob_score=True)\n",
    "    \n",
    "bag.fit(X_train,y_train)\n",
    "y_predict=bag.predict(X_test)\n",
    "print(\"Accuracy score -\",accuracy_score(y_test,y_predict))"
   ]
  },
  {
   "cell_type": "code",
   "execution_count": 16,
   "id": "7f1bf652",
   "metadata": {},
   "outputs": [
    {
     "data": {
      "text/plain": [
       "0.9075"
      ]
     },
     "execution_count": 16,
     "metadata": {},
     "output_type": "execute_result"
    }
   ],
   "source": [
    "bag.oob_score_"
   ]
  },
  {
   "cell_type": "markdown",
   "id": "cb78639a",
   "metadata": {},
   "source": [
    "### Bagging Tips \n",
    "\n",
    "- Bagging generally gives better results than Pasting.\n",
    "\n",
    "\n",
    "- Good results come around 25% to 50% row sampling mark.\n",
    "\n",
    "\n",
    "- Random patches and subspaces should be used while dealing with high dimensional data\n",
    "\n",
    "\n",
    "- To find the correct hyperparameter value we can do GridSearchCV / RandomSearchCV\n"
   ]
  },
  {
   "cell_type": "markdown",
   "id": "44082447",
   "metadata": {},
   "source": [
    "### Grid Seach Cv"
   ]
  },
  {
   "cell_type": "code",
   "execution_count": 17,
   "id": "615f400a",
   "metadata": {},
   "outputs": [],
   "source": [
    "from sklearn.model_selection import GridSearchCV\n",
    "parameters={\n",
    "    'n_estimators':[50,100,500],\n",
    "    'max_samples':[0.1,0.4,1.0],\n",
    "    'bootstrap':[True,False],\n",
    "    'max_features':[0.1,0.4,1.0]\n",
    "    }"
   ]
  },
  {
   "cell_type": "code",
   "execution_count": null,
   "id": "d743697b",
   "metadata": {},
   "outputs": [],
   "source": [
    "search=GridSearchCV(BaggingClassifier(),param_grid=parameters,cv=10)\n",
    "search.fit(X_train,y_train)"
   ]
  },
  {
   "cell_type": "code",
   "execution_count": null,
   "id": "a9bc7438",
   "metadata": {},
   "outputs": [],
   "source": [
    "search.best_params_"
   ]
  },
  {
   "cell_type": "code",
   "execution_count": null,
   "id": "a0bebc40",
   "metadata": {},
   "outputs": [],
   "source": [
    "search.best_scores_"
   ]
  },
  {
   "cell_type": "markdown",
   "id": "1fd640ac",
   "metadata": {},
   "source": [
    "### THE END "
   ]
  }
 ],
 "metadata": {
  "kernelspec": {
   "display_name": "Python 3 (ipykernel)",
   "language": "python",
   "name": "python3"
  },
  "language_info": {
   "codemirror_mode": {
    "name": "ipython",
    "version": 3
   },
   "file_extension": ".py",
   "mimetype": "text/x-python",
   "name": "python",
   "nbconvert_exporter": "python",
   "pygments_lexer": "ipython3",
   "version": "3.9.7"
  }
 },
 "nbformat": 4,
 "nbformat_minor": 5
}
