{
 "cells": [
  {
   "cell_type": "markdown",
   "id": "a38d91a3",
   "metadata": {},
   "source": [
    "## Voting Regressor Problem "
   ]
  },
  {
   "cell_type": "code",
   "execution_count": 1,
   "id": "55cc0109",
   "metadata": {},
   "outputs": [],
   "source": [
    "import pandas as pd \n",
    "import numpy as np \n",
    "import matplotlib.pyplot as plt \n",
    "import seaborn as sns\n",
    "import warnings\n",
    "warnings.filterwarnings('ignore')\n",
    "\n",
    "from sklearn.linear_model import LinearRegression\n",
    "from sklearn.tree import DecisionTreeRegressor\n",
    "from sklearn.svm import SVR\n",
    "from sklearn.model_selection import cross_val_score"
   ]
  },
  {
   "cell_type": "code",
   "execution_count": 2,
   "id": "2687b700",
   "metadata": {},
   "outputs": [],
   "source": [
    "from sklearn.datasets import load_boston\n",
    "X_new,y_new=load_boston(return_X_y=True)"
   ]
  },
  {
   "cell_type": "code",
   "execution_count": 3,
   "id": "0bd98273",
   "metadata": {},
   "outputs": [
    {
     "data": {
      "text/plain": [
       "(506, 13)"
      ]
     },
     "execution_count": 3,
     "metadata": {},
     "output_type": "execute_result"
    }
   ],
   "source": [
    "X_new.shape"
   ]
  },
  {
   "cell_type": "code",
   "execution_count": 4,
   "id": "e72789d6",
   "metadata": {},
   "outputs": [],
   "source": [
    "\n",
    "# Defining 3 models as assigning to estimators\n",
    "\n",
    "lr=LinearRegression()\n",
    "dr=DecisionTreeRegressor()\n",
    "svr=SVR()\n",
    "\n",
    "estimators= [('lr',lr),\n",
    "            ('dr',dr),('SVR',svr)]\n"
   ]
  },
  {
   "cell_type": "code",
   "execution_count": 5,
   "id": "23fc7956",
   "metadata": {},
   "outputs": [
    {
     "name": "stdout",
     "output_type": "stream",
     "text": [
      "lr 0.2\n",
      "dr -0.13\n",
      "SVR -0.41\n"
     ]
    }
   ],
   "source": [
    "# Checking the r2-score of all the models using Cross_val_score.\n",
    "\n",
    "for estimator in estimators:\n",
    "    scores=cross_val_score(estimator[1],X_new,y_new,cv=10,scoring='r2')\n",
    "    print(estimator[0],np.round(np.mean(scores),2))\n",
    "    "
   ]
  },
  {
   "cell_type": "code",
   "execution_count": 10,
   "id": "f81a083e",
   "metadata": {},
   "outputs": [
    {
     "name": "stdout",
     "output_type": "stream",
     "text": [
      "Voting Regressor 0.45\n"
     ]
    }
   ],
   "source": [
    "# Applying the estimator into VotingRegressor so that the r2 score \n",
    "# gets increased.\n",
    "\n",
    "from sklearn.ensemble import VotingRegressor\n",
    "vr=VotingRegressor(estimators=estimators)\n",
    "scores=cross_val_score(vr,X_new,y_new,cv=10,scoring='r2')\n",
    "print(\"Voting Regressor\",np.round(np.mean(scores),2))"
   ]
  },
  {
   "cell_type": "code",
   "execution_count": 11,
   "id": "7fada1b9",
   "metadata": {},
   "outputs": [
    {
     "name": "stdout",
     "output_type": "stream",
     "text": [
      "For i=1,j=1,k=1 0.44\n",
      "For i=1,j=1,k=2 0.35\n",
      "For i=1,j=1,k=3 0.26\n",
      "For i=1,j=2,k=1 0.41\n",
      "For i=1,j=2,k=2 0.41\n",
      "For i=1,j=2,k=3 0.33\n",
      "For i=1,j=3,k=1 0.37\n",
      "For i=1,j=3,k=2 0.37\n",
      "For i=1,j=3,k=3 0.37\n",
      "For i=2,j=1,k=1 0.43\n",
      "For i=2,j=1,k=2 0.41\n",
      "For i=2,j=1,k=3 0.33\n",
      "For i=2,j=2,k=1 0.4\n",
      "For i=2,j=2,k=2 0.45\n",
      "For i=2,j=2,k=3 0.39\n",
      "For i=2,j=3,k=1 0.39\n",
      "For i=2,j=3,k=2 0.43\n",
      "For i=2,j=3,k=3 0.42\n",
      "For i=3,j=1,k=1 0.42\n",
      "For i=3,j=1,k=2 0.43\n",
      "For i=3,j=1,k=3 0.39\n",
      "For i=3,j=2,k=1 0.45\n",
      "For i=3,j=2,k=2 0.46\n",
      "For i=3,j=2,k=3 0.42\n",
      "For i=3,j=3,k=1 0.43\n",
      "For i=3,j=3,k=2 0.47\n",
      "For i=3,j=3,k=3 0.44\n"
     ]
    }
   ],
   "source": [
    "\n",
    "# assigning diff weights to diff models and checking for which weights the\n",
    "# r2 score is getting increased.\n",
    "\n",
    "for i in range(1,4):\n",
    "    for j in range(1,4):\n",
    "        for k in range(1,4):\n",
    "            vr=VotingRegressor(estimators=estimators,weights=(i,j,k))\n",
    "            scores=cross_val_score(vr,X_new,y_new,cv=10,scoring='r2')\n",
    "            print(\"For i={},j={},k={}\".format(i,j,k),np.round(np.mean(scores),2))\n",
    "            "
   ]
  },
  {
   "cell_type": "code",
   "execution_count": 12,
   "id": "cdf1da75",
   "metadata": {},
   "outputs": [],
   "source": [
    "\n",
    "# Use the same algorithm multiple times\n",
    "\n",
    "dt1=DecisionTreeRegressor(max_depth=1)\n",
    "dt2=DecisionTreeRegressor(max_depth=3)\n",
    "dt3=DecisionTreeRegressor(max_depth=5)\n",
    "dt4=DecisionTreeRegressor(max_depth=7)\n",
    "dt5=DecisionTreeRegressor(max_depth=None)\n",
    "\n",
    "estimators=[('dt1',dt1),('dt2',dt2),('dt3',dt3),('dt4',dt4),\n",
    "           ('dt5',dt5)]\n"
   ]
  },
  {
   "cell_type": "code",
   "execution_count": 17,
   "id": "b26caefe",
   "metadata": {},
   "outputs": [
    {
     "name": "stdout",
     "output_type": "stream",
     "text": [
      "-0.85\n",
      "-0.23\n",
      "0.07\n",
      "0.09\n",
      "-0.19\n"
     ]
    }
   ],
   "source": [
    "for estimator in estimators:\n",
    "    scores=cross_val_score(estimator[1],X_new,y_new,cv=10,scoring='r2')\n",
    "    print(np.round(np.mean(scores),2))"
   ]
  },
  {
   "cell_type": "code",
   "execution_count": 20,
   "id": "baf17c6f",
   "metadata": {},
   "outputs": [
    {
     "name": "stdout",
     "output_type": "stream",
     "text": [
      "Voting Regressor -  0.20329727138447468\n"
     ]
    }
   ],
   "source": [
    "\n",
    "# apply voting regressor on estimators\n",
    "\n",
    "vc=VotingRegressor(estimators=estimators)\n",
    "scores=cross_val_score(vc,X_new,y_new,cv=10,scoring='r2')\n",
    "print(\"Voting Regressor - \",np.mean(scores))"
   ]
  },
  {
   "cell_type": "markdown",
   "id": "d29990fe",
   "metadata": {},
   "source": [
    "### THE END "
   ]
  }
 ],
 "metadata": {
  "kernelspec": {
   "display_name": "Python 3 (ipykernel)",
   "language": "python",
   "name": "python3"
  },
  "language_info": {
   "codemirror_mode": {
    "name": "ipython",
    "version": 3
   },
   "file_extension": ".py",
   "mimetype": "text/x-python",
   "name": "python",
   "nbconvert_exporter": "python",
   "pygments_lexer": "ipython3",
   "version": "3.9.7"
  }
 },
 "nbformat": 4,
 "nbformat_minor": 5
}
